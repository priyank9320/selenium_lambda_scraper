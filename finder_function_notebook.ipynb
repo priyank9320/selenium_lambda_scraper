{
 "metadata": {
  "language_info": {
   "codemirror_mode": {
    "name": "ipython",
    "version": 3
   },
   "file_extension": ".py",
   "mimetype": "text/x-python",
   "name": "python",
   "nbconvert_exporter": "python",
   "pygments_lexer": "ipython3",
   "version": "3.7.4-final"
  },
  "orig_nbformat": 2,
  "kernelspec": {
   "name": "python3",
   "display_name": "Python 3"
  }
 },
 "nbformat": 4,
 "nbformat_minor": 2,
 "cells": [
  {
   "cell_type": "code",
   "execution_count": 295,
   "metadata": {},
   "outputs": [],
   "source": [
    "import rapidfuzz\n",
    "import re\n",
    "from googlesearch import search\n",
    "from bs4 import BeautifulSoup\n",
    "import requests\n",
    "from rapidfuzz import fuzz\n",
    "from rapidfuzz import process"
   ]
  },
  {
   "cell_type": "code",
   "execution_count": 296,
   "metadata": {},
   "outputs": [],
   "source": [
    "def get_urls(tag, n, language):\n",
    "    urls = [url for url in search(tag, stop=n, lang=language)]\n",
    "    return urls"
   ]
  },
  {
   "cell_type": "code",
   "execution_count": 297,
   "metadata": {},
   "outputs": [],
   "source": [
    "#social = 'facebook'\n",
    "url = 'https://www.komfort.com/' # the input can be full link or just example.com\n",
    "url = url.lower() # lower case any string right away"
   ]
  },
  {
   "cell_type": "code",
   "execution_count": 298,
   "metadata": {},
   "outputs": [
    {
     "output_type": "execute_result",
     "data": {
      "text/plain": [
       "'komfort'"
      ]
     },
     "metadata": {},
     "execution_count": 298
    }
   ],
   "source": [
    "\n",
    "## THIS WILL HANDLE THE VARIATIONS IN THE INPUT LINK\n",
    "name = re.sub(r'https?:\\/\\/(www\\.?)?', '', url) # this will delete the front part of the url\n",
    "name = re.sub(r'(\\.\\w{2,3}){1,2}\\/?\\w*\\/?$', '', name ) # \n",
    "name # contains the name of the website"
   ]
  },
  {
   "cell_type": "code",
   "execution_count": 299,
   "metadata": {},
   "outputs": [
    {
     "output_type": "stream",
     "name": "stdout",
     "text": [
      "https://en-gb.facebook.com/comfortzoneuk\n",
      "https://twitter.com/komfortuk\n",
      "https://www.instagram.com/komfort.co/\n",
      "https://www.linkedin.com/company/komfort-partitioning-ltd\n"
     ]
    },
    {
     "output_type": "execute_result",
     "data": {
      "text/plain": [
       "{'facebook': '',\n",
       " 'twitter': 'https://twitter.com/komfortuk',\n",
       " 'instagram': 'https://www.instagram.com/komfort.co/',\n",
       " 'linkedin': 'https://www.linkedin.com/company/komfort-partitioning-ltd'}"
      ]
     },
     "metadata": {},
     "execution_count": 299
    }
   ],
   "source": [
    "# GOOGLING THE LINKS\n",
    "# we are using 'name' while searching, this is debatable 'url' can also be used\n",
    "facebook_ggl = get_urls(f'{name} company facebook', 1 , 'en')[0].lower()\n",
    "facebook_ggl = re.sub('\\?.*', '', facebook_ggl)\n",
    "print(facebook_ggl)\n",
    "if 'facebook' not in facebook_ggl or name not in facebook_ggl:  facebook_ggl = ''\n",
    "\n",
    "\n",
    "twitter_ggl = get_urls(f'{name} company twitter', 1 , 'en')[0].lower()\n",
    "twitter_ggl = re.sub('\\?.*', '', twitter_ggl)\n",
    "print(twitter_ggl)\n",
    "if 'twitter' not in twitter_ggl or name not in twitter_ggl : twitter_ggl = ''\n",
    "\n",
    "\n",
    "instagram_ggl = get_urls(f'{name} company instagram', 1 , 'en')[0].lower()\n",
    "instagram_ggl = re.sub('\\?.*', '', instagram_ggl)\n",
    "print(instagram_ggl)\n",
    "if 'instagram' not in instagram_ggl or name not in instagram_ggl: instagram_ggl = ''\n",
    "\n",
    "\n",
    "linkedin_ggl = get_urls(f'{name} company linkedin', 1 , 'en')[0].lower()\n",
    "linkedin_ggl = re.sub('\\?.*', '', linkedin_ggl)\n",
    "print(linkedin_ggl)\n",
    "if 'linkedin' not in linkedin_ggl or name not in linkedin_ggl : linkedin_ggl = ''\n",
    "\n",
    "\n",
    "\n",
    "ggl_values = { \n",
    "    'facebook' :facebook_ggl,\n",
    "    'twitter' :twitter_ggl,\n",
    "    'instagram' : instagram_ggl,\n",
    "    'linkedin' :linkedin_ggl\n",
    "}\n",
    "\n",
    "ggl_values"
   ]
  },
  {
   "cell_type": "code",
   "execution_count": 300,
   "metadata": {},
   "outputs": [],
   "source": [
    "# filtered_links = []\n",
    "# for link in links :\n",
    "#     if social in link: # filter 1\n",
    "#         filtered_links.append(link) # eep the link only if the given social media name is present in the link\n",
    "    \n",
    "\n",
    "\n",
    "# print(filtered_links)"
   ]
  },
  {
   "cell_type": "code",
   "execution_count": 301,
   "metadata": {},
   "outputs": [],
   "source": [
    "# from rapidfuzz import fuzz\n",
    "# from rapidfuzz import process\n",
    "# import pandas as pd\n",
    "\n",
    "# #score_df = pd.DataFrame(columns = ['link','score'], dtype=[object,float64])\n",
    "# dicta = {'link':[] , 'score':[]}\n",
    "\n",
    "# for link in filtered_links:\n",
    "#     score = fuzz.partial_ratio(link.lower(),input_string.lower())\n",
    "#     score = score/len(link)\n",
    "#     dicta['link'].append(link)\n",
    "#     dicta['score'].append(score)\n",
    "#     print(dicta)\n",
    "\n",
    "# dicta_df = pd.DataFrame.from_dict(dicta)\n",
    "# dicta_df.sort()"
   ]
  },
  {
   "cell_type": "code",
   "execution_count": 302,
   "metadata": {},
   "outputs": [],
   "source": [
    "# score_df.sort_values(by=['score'],ascending=False).reset_index()"
   ]
  },
  {
   "cell_type": "code",
   "execution_count": 303,
   "metadata": {},
   "outputs": [],
   "source": [
    "# USEFUL CODE , IF YOU GOOGLE THE LINK BEFORE SCRAPING IT CORRECTS ANY MISTAKES\n",
    "\n",
    "# url_ggl = get_urls(f'{url} company website', 1 , 'en')[0].lower()\n",
    "# url_ggl = re.search(r'(https?:\\/\\/[a-zA-Z0-9\\.]+)',url_ggl)\n",
    "# url = url_ggl.groups()[0]\n"
   ]
  },
  {
   "cell_type": "code",
   "execution_count": 304,
   "metadata": {},
   "outputs": [],
   "source": [
    "try:\n",
    "    page = requests.get(url).text # intial scrape, using the googled name of the company to rectify any spelling mistakes\n",
    "except:\n",
    "    print(\"An error occured.\")"
   ]
  },
  {
   "cell_type": "code",
   "execution_count": 305,
   "metadata": {
    "tags": []
   },
   "outputs": [],
   "source": [
    "\n",
    "soup = BeautifulSoup(page, 'lxml')# for the initial scrape\n",
    "#print(soup.prettify())\n",
    "html_text = str(soup)"
   ]
  },
  {
   "cell_type": "code",
   "execution_count": 306,
   "metadata": {
    "tags": [
     "outputPrepend"
    ]
   },
   "outputs": [
    {
     "output_type": "stream",
     "name": "stdout",
     "text": [
      "ww.komfort.com/wp-content/uploads/2018/06/KomfortLogo_sm.png\"', '\"https://www.komfort.com/partitioning/\"', '\"https://www.komfort.com/partitioning/frameless/\"', '\"https://www.komfort.com/partitioning/fire-rated-systems/\"', '\"https://www.komfort.com/partitioning/framed/\"', '\"https://www.komfort.com/partitioning/acoustic/\"', '\"https://www.komfort.com/doors/\"', '\"https://www.komfort.com/products/sonik-doors/\"', '\"https://www.komfort.com/products/sonik-slide/\"', '\"https://www.komfort.com/products/frameless-glass-doors/\"', '\"https://www.komfort.com/products/timber-doors-frames/\"', '\"https://www.komfort.com/balustrades/\"', '\"https://www.komfort.com/balustrades/staircase-handrails/\"', '\"https://www.komfort.com/balustrades/ramp-handrails/\"', '\"https://www.komfort.com/balustrades/atrium-bridge-walkway-balustrades-handrails/\"', '\"https://www.komfort.com/balustrades/balconies-terraces/\"', '\"https://www.komfort.com/collections/\"', '\"https://www.komfort.com/collections/social-distancing-range/\"', '\"https://www.komfort.com/collections/koncept-range/\"', '\"https://www.komfort.com/collections/movable-walls/\"', '\"https://www.komfort.com/collections/storage-walls/\"', '\"https://www.komfort.com/collections/privacy/\"', '\"https://www.komfort.com/products/manifestations-graphics/?portfolioCats=58\"', '\"https://www.komfort.com/case-studies/\"', '\"https://www.komfort.com/about/\"', '\"https://www.komfort.com/about/komforts-cpd-offerings/\"', '\"https://www.komfort.com/specification-and-support/\"', '\"https://www.komfort.com/news/\"', '\"https://www.komfort.com/my-account/\"', '\"https://www.komfort.com/contact/\"', '\"https://www.komfort.com\"', '\"https://www.komfort.com/partitioning/\"', '\"https://www.komfort.com/partitioning/frameless/\"', '\"https://www.komfort.com/partitioning/fire-rated-systems/\"', '\"https://www.komfort.com/partitioning/framed/\"', '\"https://www.komfort.com/partitioning/acoustic/\"', '\"https://www.komfort.com/doors/\"', '\"https://www.komfort.com/products/sonik-doors/\"', '\"https://www.komfort.com/products/sonik-slide/\"', '\"https://www.komfort.com/products/frameless-glass-doors/\"', '\"https://www.komfort.com/products/timber-doors-frames/\"', '\"https://www.komfort.com/balustrades/\"', '\"https://www.komfort.com/balustrades/staircase-handrails/\"', '\"https://www.komfort.com/balustrades/ramp-handrails/\"', '\"https://www.komfort.com/balustrades/atrium-bridge-walkway-balustrades-handrails/\"', '\"https://www.komfort.com/balustrades/balconies-terraces/\"', '\"https://www.komfort.com/collections/\"', '\"https://www.komfort.com/collections/social-distancing-range/\"', '\"https://www.komfort.com/collections/koncept-range/\"', '\"https://www.komfort.com/collections/movable-walls/\"', '\"https://www.komfort.com/collections/storage-walls/\"', '\"https://www.komfort.com/collections/privacy/\"', '\"https://www.komfort.com/products/manifestations-graphics/?portfolioCats=58\"', '\"https://www.komfort.com/case-studies/\"', '\"https://www.komfort.com/about/\"', '\"https://www.komfort.com/about/komforts-cpd-offerings/\"', '\"https://www.komfort.com/specification-and-support/\"', '\"https://www.komfort.com/news/\"', '\"https://www.komfort.com/my-account/\"', '\"https://www.komfort.com/contact/\"', '\"https://www.komfort.com\"', '\"https://www.komfort.com/partitioning/\"', '\"https://www.komfort.com/partitioning/frameless/\"', '\"https://www.komfort.com/partitioning/fire-rated-systems/\"', '\"https://www.komfort.com/partitioning/framed/\"', '\"https://www.komfort.com/partitioning/acoustic/\"', '\"https://www.komfort.com/doors/\"', '\"https://www.komfort.com/products/sonik-doors/\"', '\"https://www.komfort.com/products/sonik-slide/\"', '\"https://www.komfort.com/products/frameless-glass-doors/\"', '\"https://www.komfort.com/products/timber-doors-frames/\"', '\"https://www.komfort.com/balustrades/\"', '\"https://www.komfort.com/balustrades/staircase-handrails/\"', '\"https://www.komfort.com/balustrades/ramp-handrails/\"', '\"https://www.komfort.com/balustrades/atrium-bridge-walkway-balustrades-handrails/\"', '\"https://www.komfort.com/balustrades/balconies-terraces/\"', '\"https://www.komfort.com/collections/\"', '\"https://www.komfort.com/collections/social-distancing-range/\"', '\"https://www.komfort.com/collections/koncept-range/\"', '\"https://www.komfort.com/collections/movable-walls/\"', '\"https://www.komfort.com/collections/storage-walls/\"', '\"https://www.komfort.com/collections/privacy/\"', '\"https://www.komfort.com/products/manifestations-graphics/?portfolioCats=58\"', '\"https://www.komfort.com/case-studies/\"', '\"https://www.komfort.com/about/\"', '\"https://www.komfort.com/about/komforts-cpd-offerings/\"', '\"https://www.komfort.com/specification-and-support/\"', '\"https://www.komfort.com/news/\"', '\"https://www.komfort.com/my-account/\"', '\"https://www.komfort.com/contact/\"', '\"https://www.komfort.com/\"', '\"https://www.komfort.com/partitioning/frameless/\"', '\"https://www.komfort.com/koncept-range/\"', '\"https://www.komfort.com/products/kross-glaze/?portfolioCats=41\"', '\"https://www.komfort.com/product-list/\"', '\"https://www.komfort.com/products/polar-54/?portfolioCats=30\"', '\"https://www.komfort.com/product-list/\"', '\"https://www.komfort.com/author/komfort/\"', '\"https://www.komfort.com/movable-walls/\"', '\"https://www.komfort.com/storage-walls/\"', '\"https://www.komfort.com/wp-content/uploads/2020/05/Komfort-Product-Brochure-2020.pdf\"', '\"https://www.komfort.com/wp-content/uploads/2020/05/Komfort-Product-Brochure-2020.pdf\"', '\"https://www.komfort.com/partitioning/frameless/\"', '\"https://www.komfort.com/wp-content/uploads/2020/06/Polar-2.jpg\"', '\"https://www.komfort.com/partitioning/frameless/\"', '\"https://www.komfort.com/partitioning/frameless/\"', '\"https://www.komfort.com/frameless-partitioning/\"', '\"https://www.komfort.com/wp-content/uploads/2020/06/Frameless-glazed-partitioning.jpg\"', '\"https://www.komfort.com/frameless-partitioning/\"', '\"https://www.komfort.com/partitioning-products/acoustic-partitioning/\"', '\"https://www.komfort.com/wp-content/uploads/2019/09/Polar-54-glass-partitioning-2.jpg\"', '\"https://www.komfort.com/partitioning-products/acoustic-partitioning/\"', '\"https://www.komfort.com/fire-rated-systems/\"', '\"https://www.komfort.com/wp-content/uploads/2018/09/Polar-Double-Glazed_5-1.jpg\"', '\"https://www.komfort.com/fire-rated-systems/\"', '\"https://www.komfort.com/koncept-range/\"', '\"https://www.komfort.com/wp-content/uploads/2020/04/Komfort-Koncept-6-1024x576.png\"', '\"https://www.komfort.com/koncept-range/\"', '\"https://www.komfort.com/case-studies/\"', '\"https://www.komfort.com/products/kross-glaze/?portfolioCats=41\"', '\"https://www.komfort.com/case-studies/\"', '\"https://www.komfort.com/case-studies/\"', '\"https://www.komfort.com/case-studies/\"', '\"https://www.komfort.com/specification-and-support/\"', '\"https://www.komfort.com/specification-and-support/\"', '\"https://www.komfort.com/wp-content/uploads/2019/06/Specification-support-2.jpg\"', '\"https://www.komfort.com/wp-content/uploads/2020/10/Construction-Line-320x202.jpg\"', '\"https://www.komfort.com/wp-content/uploads/2018/05/Member-logo2-300x300.jpg\"', '\"https://www.komfort.com/wp-content/uploads/2018/05/Member-logo3-300x300.jpg\"', '\"https://www.komfort.com/wp-content/uploads/2020/08/NBS-Source-logo.jpeg\"', '\"https://www.komfort.com/wp-content/uploads/2018/05/Member-logo6-300x300.jpg\"', '\"https://www.komfort.com/wp-content/uploads/2018/05/Member-logo4-300x300.jpg\"', '\"https://www.komfort.com/wp-content/uploads/2019/11/Builders-Profile-Certificate-logo-v2.png\"', '\"https://www.komfort.com/wp-content/uploads/2020/08/Screenshot-2020-08-27-at-14.29.13-320x119.png\"', '\"https://www.komfort.com/accreditations/\"', '\"https://www.komfort.com/komforts-product-compliance/\"', '\"https://www.komfort.com/company-policy-documents/\"', '\"https://www.komfort.com/wp-content/uploads/2020/05/Komfort-Product-Brochure-2020.pdf\"', '\"https://www.komfort.com/privacy-policy/\"', '\"https://www.komfort.com/terms-conditions/\"', '\"https://www.komfort.com/wp-content/uploads/2020/11/KPL-Handrail-Balustrades-terms-30.10.20.pdf\"', '\"https://www.komfort.com/legal/\"', '\"https://www.komfort.com/company-policy-documents/\"', '\"http://www.banganderson.co.uk/\"', '\"http://www.builtformarketing.co.uk/\"', '\"https://twitter.com/KomfortUK?lang=en-gb\"', '\"https://www.linkedin.com/company/komfort-partitioning-ltd/\"', '\"https://www.googletagmanager.com/ns.html?id=GTM-KN34RVD\"', '\"https://www.komfort.com/wp-content/plugins/contact-form-7/includes/js/scripts.js?ver=5.1.3\"', '\"https://www.komfort.com/wp-content/plugins/woocommerce/assets/js/jquery-blockui/jquery.blockUI.min.js?ver=2.70\"', '\"https://www.komfort.com/wp-content/plugins/woocommerce/assets/js/frontend/add-to-cart.min.js?ver=3.6.5\"', '\"https://www.komfort.com/wp-content/plugins/woocommerce/assets/js/js-cookie/js.cookie.min.js?ver=2.1.4\"', '\"https://www.komfort.com/wp-content/plugins/woocommerce/assets/js/frontend/woocommerce.min.js?ver=3.6.5\"', '\"https://www.komfort.com/wp-content/plugins/woocommerce/assets/js/frontend/cart-fragments.min.js?ver=3.6.5\"', '\"https://www.komfort.com/wp-content/themes/Avada/includes/lib/assets/min/js/library/isotope.js?ver=3.0.4\"', '\"https://www.komfort.com/wp-content/themes/Avada/includes/lib/assets/min/js/library/jquery.infinitescroll.js?ver=2.1\"', '\"https://www.komfort.com/wp-content/plugins/fusion-core/js/min/avada-faqs.js?ver=1\"', '\"https://www.komfort.com/wp-content/themes/Avada/includes/lib/assets/min/js/library/modernizr.js?ver=3.3.1\"', '\"https://www.komfort.com/wp-content/themes/Avada/includes/lib/assets/min/js/library/jquery.fitvids.js?ver=1.1\"', '\"https://www.komfort.com/wp-content/themes/Avada/includes/lib/assets/min/js/library/fusion-video-general.js?ver=1\"', '\"https://www.komfort.com/wp-content/themes/Avada/includes/lib/assets/min/js/library/jquery.ilightbox.js?ver=2.2.3\"', '\"https://www.komfort.com/wp-content/themes/Avada/includes/lib/assets/min/js/library/jquery.mousewheel.js?ver=3.0.6\"', '\"https://www.komfort.com/wp-content/themes/Avada/includes/lib/assets/min/js/general/fusion-lightbox.js?ver=1\"', '\"https://www.komfort.com/wp-content/themes/Avada/includes/lib/assets/min/js/library/imagesLoaded.js?ver=3.1.8\"', '\"https://www.komfort.com/wp-content/themes/Avada/includes/lib/assets/min/js/library/packery.js?ver=2.0.0\"', '\"https://www.komfort.com/wp-content/plugins/fusion-core/js/min/avada-portfolio.js?ver=1\"', '\"https://www.komfort.com/wp-content/plugins/fusion-builder/assets/js/min/general/fusion-column-bg-image.js?ver=1\"', '\"https://www.komfort.com/wp-content/themes/Avada/includes/lib/assets/min/js/library/cssua.js?ver=2.1.28\"', '\"https://www.komfort.com/wp-content/themes/Avada/includes/lib/assets/min/js/library/jquery.waypoints.js?ver=2.0.3\"', '\"https://www.komfort.com/wp-content/themes/Avada/includes/lib/assets/min/js/general/fusion-waypoints.js?ver=1\"', '\"https://www.komfort.com/wp-content/plugins/fusion-builder/assets/js/min/general/fusion-animations.js?ver=1\"', '\"https://www.komfort.com/wp-content/themes/Avada/includes/lib/assets/min/js/general/fusion-equal-heights.js?ver=1\"', '\"https://www.komfort.com/wp-content/plugins/fusion-builder/assets/js/min/general/fusion-column.js?ver=1\"', '\"https://www.komfort.com/wp-content/plugins/fusion-builder/assets/js/min/library/Chart.js?ver=2.7.1\"', '\"https://www.komfort.com/wp-content/plugins/fusion-builder/assets/js/min/general/fusion-chart.js?ver=1\"', '\"https://www.komfort.com/wp-content/themes/Avada/includes/lib/assets/min/js/library/jquery.appear.js?ver=1\"', '\"https://www.komfort.com/wp-content/plugins/fusion-builder/assets/js/min/general/fusion-progress.js?ver=1\"', '\"https://www.komfort.com/wp-content/themes/Avada/includes/lib/assets/min/js/library/bootstrap.modal.js?ver=3.1.1\"', '\"https://www.komfort.com/wp-content/plugins/fusion-builder/assets/js/min/general/fusion-modal.js?ver=1\"', '\"https://www.komfort.com/wp-content/plugins/fusion-builder/assets/js/min/general/fusion-events.js?ver=1\"', '\"https://www.komfort.com/wp-content/themes/Avada/includes/lib/assets/min/js/library/jquery.fade.js?ver=1\"', '\"https://www.komfort.com/wp-content/themes/Avada/includes/lib/assets/min/js/library/jquery.requestAnimationFrame.js?ver=1\"', '\"https://www.komfort.com/wp-content/themes/Avada/includes/lib/assets/min/js/library/fusion-parallax.js?ver=1\"', '\"https://www.komfort.com/wp-content/themes/Avada/includes/lib/assets/min/js/library/fusion-video-bg.js?ver=1\"', '\"https://www.komfort.com/wp-content/plugins/fusion-builder/assets/js/min/general/fusion-container.js?ver=1\"', '\"https://www.komfort.com/wp-content/plugins/fusion-builder/assets/js/min/general/fusion-flip-boxes.js?ver=1\"', '\"https://www.komfort.com/wp-content/plugins/fusion-builder/assets/js/min/general/fusion-title.js?ver=1\"', '\"https://www.komfort.com/wp-content/plugins/fusion-builder/assets/js/min/library/jquery.countdown.js?ver=1.0\"', '\"https://www.komfort.com/wp-content/plugins/fusion-builder/assets/js/min/general/fusion-countdown.js?ver=1\"', '\"https://www.komfort.com/wp-content/plugins/fusion-builder/assets/js/min/general/fusion-content-boxes.js?ver=1\"', '\"https://www.komfort.com/wp-content/plugins/fusion-builder/assets/js/min/general/fusion-recent-posts.js?ver=1\"', '\"https://www.komfort.com/wp-content/plugins/fusion-builder/assets/js/min/library/jquery.countTo.js?ver=1\"', '\"https://www.komfort.com/wp-content/plugins/fusion-builder/assets/js/min/general/fusion-counters-box.js?ver=1\"', '\"https://www.komfort.com/wp-content/themes/Avada/includes/lib/assets/min/js/library/jquery.fusion_maps.js?ver=2.2.2\"', '\"https://www.komfort.com/wp-content/themes/Avada/includes/lib/assets/min/js/general/fusion-google-map.js?ver=1\"', '\"https://www.komfort.com/wp-content/themes/Avada/includes/lib/assets/min/js/library/jquery.easyPieChart.js?ver=2.1.7\"', '\"https://www.komfort.com/wp-content/plugins/fusion-builder/assets/js/min/general/fusion-counters-circle.js?ver=1\"', '\"https://www.komfort.com/wp-content/themes/Avada/includes/lib/assets/min/js/library/jquery.cycle.js?ver=3.0.3\"', '\"https://www.komfort.com/wp-content/plugins/fusion-builder/assets/js/min/general/fusion-testimonials.js?ver=1\"', '\"https://www.komfort.com/wp-content/plugins/fusion-builder/assets/js/min/general/fusion-syntax-highlighter.js?ver=1\"', '\"https://www.komfort.com/wp-content/themes/Avada/includes/lib/assets/min/js/library/bootstrap.collapse.js?ver=3.1.1\"', '\"https://www.komfort.com/wp-content/plugins/fusion-builder/assets/js/min/general/fusion-toggles.js?ver=1\"', '\"https://www.komfort.com/wp-content/themes/Avada/includes/lib/assets/min/js/library/bootstrap.transition.js?ver=3.3.6\"', '\"https://www.komfort.com/wp-content/themes/Avada/includes/lib/assets/min/js/library/bootstrap.tab.js?ver=3.1.1\"', '\"https://www.komfort.com/wp-content/plugins/fusion-builder/assets/js/min/general/fusion-tabs.js?ver=1\"', '\"https://www.komfort.com/wp-content/plugins/fusion-builder/assets/js/min/library/jquery.event.move.js?ver=2.0\"', '\"https://www.komfort.com/wp-content/plugins/fusion-builder/assets/js/min/general/fusion-image-before-after.js?ver=1.0\"', '\"https://www.komfort.com/wp-content/plugins/fusion-builder/assets/js/min/general/fusion-gallery.js?ver=1\"', '\"https://www.komfort.com/wp-content/themes/Avada/includes/lib/assets/min/js/library/vimeoPlayer.js?ver=2.2.1\"', '\"https://www.komfort.com/wp-content/plugins/fusion-builder/assets/js/min/general/fusion-video.js?ver=1\"', '\"https://www.komfort.com/wp-content/themes/Avada/includes/lib/assets/min/js/library/jquery.hoverintent.js?ver=1\"', '\"https://www.komfort.com/wp-content/themes/Avada/assets/min/js/general/avada-vertical-menu-widget.js?ver=1\"', '\"https://www.komfort.com/wp-content/themes/Avada/includes/lib/assets/min/js/library/lazysizes.js?ver=4.1.5\"', '\"https://www.komfort.com/wp-content/themes/Avada/includes/lib/assets/min/js/library/bootstrap.tooltip.js?ver=3.3.5\"', '\"https://www.komfort.com/wp-content/themes/Avada/includes/lib/assets/min/js/library/bootstrap.popover.js?ver=3.3.5\"', '\"https://www.komfort.com/wp-content/themes/Avada/includes/lib/assets/min/js/library/jquery.carouFredSel.js?ver=6.2.1\"', '\"https://www.komfort.com/wp-content/themes/Avada/includes/lib/assets/min/js/library/jquery.easing.js?ver=1.3\"', '\"https://www.komfort.com/wp-content/themes/Avada/includes/lib/assets/min/js/library/jquery.flexslider.js?ver=2.2.2\"', '\"https://www.komfort.com/wp-content/themes/Avada/includes/lib/assets/min/js/library/jquery.hoverflow.js?ver=1\"', '\"https://www.komfort.com/wp-content/themes/Avada/includes/lib/assets/min/js/library/jquery.placeholder.js?ver=2.0.7\"', '\"https://www.komfort.com/wp-content/themes/Avada/includes/lib/assets/min/js/library/jquery.touchSwipe.js?ver=1.6.6\"', '\"https://www.komfort.com/wp-content/themes/Avada/includes/lib/assets/min/js/general/fusion-alert.js?ver=1\"', '\"https://www.komfort.com/wp-content/themes/Avada/includes/lib/assets/min/js/general/fusion-carousel.js?ver=1\"', '\"https://www.komfort.com/wp-content/themes/Avada/includes/lib/assets/min/js/general/fusion-flexslider.js?ver=1\"', '\"https://www.komfort.com/wp-content/themes/Avada/includes/lib/assets/min/js/general/fusion-popover.js?ver=1\"', '\"https://www.komfort.com/wp-content/themes/Avada/includes/lib/assets/min/js/general/fusion-tooltip.js?ver=1\"', '\"https://www.komfort.com/wp-content/themes/Avada/includes/lib/assets/min/js/general/fusion-sharing-box.js?ver=1\"', '\"https://www.komfort.com/wp-content/themes/Avada/includes/lib/assets/min/js/general/fusion-blog.js?ver=1\"', '\"https://www.komfort.com/wp-content/themes/Avada/includes/lib/assets/min/js/general/fusion-button.js?ver=1\"', '\"https://www.komfort.com/wp-content/themes/Avada/includes/lib/assets/min/js/general/fusion-general-global.js?ver=1\"', '\"https://www.komfort.com/wp-content/themes/Avada/assets/min/js/general/avada-header.js?ver=5.9.1\"', '\"https://www.komfort.com/wp-content/themes/Avada/assets/min/js/general/avada-menu.js?ver=5.9.1\"', '\"https://www.komfort.com/wp-content/themes/Avada/includes/lib/assets/min/js/general/fusion-scroll-to-anchor.js?ver=1\"', '\"https://www.komfort.com/wp-content/themes/Avada/includes/lib/assets/min/js/general/fusion-responsive-typography.js?ver=1\"', '\"https://www.komfort.com/wp-content/themes/Avada/assets/min/js/library/bootstrap.scrollspy.js?ver=3.3.2\"', '\"https://www.komfort.com/wp-content/themes/Avada/assets/min/js/general/avada-comments.js?ver=5.9.1\"', '\"https://www.komfort.com/wp-content/themes/Avada/assets/min/js/general/avada-general-footer.js?ver=5.9.1\"', '\"https://www.komfort.com/wp-content/themes/Avada/assets/min/js/general/avada-quantity.js?ver=5.9.1\"', '\"https://www.komfort.com/wp-content/themes/Avada/assets/min/js/general/avada-scrollspy.js?ver=5.9.1\"', '\"https://www.komfort.com/wp-content/themes/Avada/assets/min/js/general/avada-select.js?ver=5.9.1\"', '\"https://www.komfort.com/wp-content/themes/Avada/assets/min/js/general/avada-sidebars.js?ver=5.9.1\"', '\"https://www.komfort.com/wp-content/themes/Avada/assets/min/js/library/jquery.sticky-kit.js?ver=5.9.1\"', '\"https://www.komfort.com/wp-content/themes/Avada/assets/min/js/general/avada-tabs-widget.js?ver=5.9.1\"', '\"https://www.komfort.com/wp-content/themes/Avada/assets/min/js/library/jquery.toTop.js?ver=1.2\"', '\"https://www.komfort.com/wp-content/themes/Avada/assets/min/js/general/avada-to-top.js?ver=5.9.1\"', '\"https://www.komfort.com/wp-content/themes/Avada/assets/min/js/general/avada-drop-down.js?ver=5.9.1\"', '\"https://www.komfort.com/wp-content/themes/Avada/assets/min/js/general/avada-contact-form-7.js?ver=5.9.1\"', '\"https://www.komfort.com/wp-content/themes/Avada/assets/min/js/library/jquery.elasticslider.js?ver=5.9.1\"', '\"https://www.komfort.com/wp-content/themes/Avada/assets/min/js/general/avada-elastic-slider.js?ver=5.9.1\"', '\"https://www.komfort.com/wp-content/themes/Avada/assets/min/js/general/avada-woocommerce.js?ver=5.9.1\"', '\"https://www.komfort.com/wp-content/themes/Avada/assets/min/js/general/avada-live-search.js?ver=5.9.1\"', '\"https://www.komfort.com/wp-content/plugins/fusion-core/js/min/avada-fusion-slider.js?ver=1\"', '\"https://www.komfort.com/wp-includes/js/wp-embed.min.js?ver=136ea96bebc79ffa51b89e2569e4b406\"']\n"
     ]
    }
   ],
   "source": [
    "all_links = re.findall(r'\"http[a-zA-Z0-9\\.\\-\\=\\&\\?\\/\\:\\_]+\"', html_text) # finds all possible links present in the initial scrape\n",
    "if all_links :\n",
    "    print(all_links) \n",
    "    all_flag = 1 \n",
    "    #facebook_list = [x.lower() for x in facebook_list[0] if self.link_checker(self.input_company_name.lower(), x.lower())]\n",
    "    all_links = [x.lower().replace('\"','') for x in all_links if 'facebook' not in x.lower() and 'instagram' not in x.lower() and 'twitter' not in x.lower() and 'linkedin' not in x.lower() ]\n",
    "else: all_flag = 0 "
   ]
  },
  {
   "cell_type": "code",
   "execution_count": 307,
   "metadata": {},
   "outputs": [
    {
     "output_type": "execute_result",
     "data": {
      "text/plain": [
       "['https://www.komfort.com/',\n",
       " 'https://www.komfort.com/feed/',\n",
       " 'https://www.komfort.com/comments/feed/',\n",
       " 'https://www.komfort.com/wp-content/uploads/2020/06/brand-new-polar-partitioning-1024x640.jpg',\n",
       " 'https://www.komfort.com/wp-content/uploads/2020/06/brand-new-polar-partitioning.jpg']"
      ]
     },
     "metadata": {},
     "execution_count": 307
    }
   ],
   "source": [
    "all_links = [a for a in all_links if fuzz.partial_ratio(url,a)>=60 and 'api' not in a and 'admin' not in a and 'score' not in a and 'schema' not in a ]\n",
    "all_links = all_links[:10] # scrape just 5 extra links to save time, we may increase this limit later on\n",
    "all_links.append(url)\n",
    "all_links=list(set(all_links))\n",
    "all_links"
   ]
  },
  {
   "cell_type": "code",
   "execution_count": 308,
   "metadata": {},
   "outputs": [],
   "source": [
    "def link_checker(a,b):\n",
    "    #checks if the links contain the name of the page something similar to the compnay name or not\n",
    "    # doing this because sometimes the website contains links to other pages apart from the website page, \n",
    "    # and we cannot just do an exact check whether the compnay name is present in the link or not because sometimes the links have different names\n",
    "\n",
    "    # we will use the function fuzz.partial_ratio which is very good in identifying the similarity in this case\n",
    "\n",
    "    test = fuzz.partial_ratio(a, b)\n",
    "\n",
    "    if test >= 40: # using this similarity has a lot of drawbacks too, sometimes the wesbite name is an abbreviation\n",
    "        # we need to come up with something more intelligent to be able to use such a system properly\n",
    "        # till then I am keeping the threshold very low\n",
    "        print(f'true checked ^^^^^ : {a} and {b}')\n",
    "        return True\n",
    "    \n",
    "    else :\n",
    "        print(f'false checked ^^^^^ : {a} and {b}')\n",
    "        return False\n"
   ]
  },
  {
   "cell_type": "code",
   "execution_count": 309,
   "metadata": {
    "tags": []
   },
   "outputs": [
    {
     "output_type": "stream",
     "name": "stdout",
     "text": [
      "true checked ^^^^^ : https://www.komfort.com/ and https://www.linkedin.com/company/komfort-partitioning-ltd/\n",
      "true checked ^^^^^ : https://www.komfort.com/ and https://www.linkedin.com/company/komfort-partitioning-ltd/\n",
      "true checked ^^^^^ : https://www.komfort.com/ and https://twitter.com/komfortuk?lang=en-gb\n",
      "true checked ^^^^^ : https://www.komfort.com/ and https://twitter.com/komfortuk?lang=en-gb\n",
      "{'input_url': 'https://www.komfort.com/', 'facebook': [], 'linkedin': {'https://www.linkedin.com/company/komfort-partitioning-ltd/'}, 'twitter': {'https://twitter.com/komfortuk?lang=en-gb'}, 'instagram': [], 'total_flags': 2}\n",
      "{'input_url': 'https://www.komfort.com/', 'facebook': [], 'linkedin': [], 'twitter': [], 'instagram': [], 'total_flags': 0}\n",
      "{'input_url': 'https://www.komfort.com/', 'facebook': [], 'linkedin': [], 'twitter': [], 'instagram': [], 'total_flags': 0}\n",
      "{'input_url': 'https://www.komfort.com/', 'facebook': [], 'linkedin': [], 'twitter': [], 'instagram': [], 'total_flags': 0}\n",
      "{'input_url': 'https://www.komfort.com/', 'facebook': [], 'linkedin': [], 'twitter': [], 'instagram': [], 'total_flags': 0}\n"
     ]
    }
   ],
   "source": [
    "collector = []\n",
    "\n",
    "for link in all_links:\n",
    "    try:\n",
    "        page = requests.get(link).text \n",
    "        soup = BeautifulSoup(page, 'lxml')# for the initial scrape\n",
    "        #print(soup.prettify())\n",
    "        html_text = str(soup)\n",
    "    except:\n",
    "        print(\"An error occured.\")\n",
    "        html_text = ''\n",
    "\n",
    "\n",
    "\n",
    "    # mail_list = re.findall(r'\\w+@\\w+\\.{1}[a-zA-Z0-9\\-\\.]+', html_text)\n",
    "    # if mail_list: \n",
    "    #     ma_flag = 1\n",
    "    #     mail_list = set([x.lower().replace('\"','') for x in mail_list])\n",
    "    # else: ma_flag = 0 \n",
    "\n",
    "\n",
    "    #facebook_list = re.findall(r'\".+facebook.+\"', html_text) # '\\w+@\\w+\\.{1}\\w+' for emails, https:\\/\\/www\\.linkedin\\.com\\/company\\/.+ for linkedin links\n",
    "    facebook_list = re.findall(r'\"http[a-zA-Z0-9\\.\\-\\=\\&\\?\\/\\:\\_]+facebook[a-zA-Z0-9\\.\\-\\=\\&\\?\\/\\:\\_]+\"', html_text) # '\\w+@\\w+\\.{1}\\w+' for emails, https:\\/\\/www\\.linkedin\\.com\\/company\\/.+ for linkedin \n",
    "\n",
    "    if facebook_list : \n",
    "        fb_flag = 1 \n",
    "        #facebook_list = [x.lower() for x in facebook_list[0] if self.link_checker(self.input_company_name.lower(), x.lower())]\n",
    "        facebook_list = set([x.lower().replace('\"','') for x in facebook_list if link_checker(url, x.lower().replace('\"','')) and 'sharer' not in x.lower() and '.svg' not in x.lower() and '.png' not in x.lower()  and '.js' not in x.lower()  ])\n",
    "    else: fb_flag = 0\n",
    "\n",
    "    #linkedin_list = re.findall(r'https:\\/\\/www\\.linkedin\\.com\\/company\\/[a-zA-Z0-9\\-\\.]+', html_text)\n",
    "    linkedin_list = re.findall(r'\"http[a-zA-Z0-9\\.\\-\\=\\&\\?\\/\\:\\_]+linkedin[a-zA-Z0-9\\.\\-\\=\\&\\?\\/\\:\\_]+\"', html_text)\n",
    "    if linkedin_list: \n",
    "        ln_flag = 1\n",
    "        linkedin_list = set([x.lower().replace('\"','') for x in linkedin_list if link_checker(url, x.lower().replace('\"','')) and '.svg' not in x.lower()  and '.png' not in x.lower()  ])\n",
    "    else: ln_flag = 0\n",
    "\n",
    "    twitter_list = re.findall(r'\"http[a-zA-Z0-9\\.\\-\\=\\&\\?\\/\\:\\_]+twitter[a-zA-Z0-9\\.\\-\\=\\&\\?\\/\\:\\_]+\"', html_text)\n",
    "    if twitter_list: \n",
    "        tw_flag = 1 \n",
    "        twitter_list = set([x.lower().replace('\"','') for x in twitter_list if link_checker(url, x.lower().replace('\"','')) and 'platform' not in x.lower() and '.svg' not in x.lower() and '.png' not in x.lower() ])\n",
    "    else: tw_flag = 0\n",
    "\n",
    "    #instagram_list = re.findall(r'https:\\/\\/www\\.instagram\\.com\\/[a-zA-Z0-9\\-\\.\\_]+', html_text)\n",
    "    #instagram_list = [x.lower() for x in instagram_list if self.link_checker(self.input_company_name.lower(), x.lower()) ]\n",
    "    instagram_list = re.findall(r'\"http[a-zA-Z0-9\\.\\-\\=\\&\\?\\/\\:\\_]+instagram[a-zA-Z0-9\\.\\-\\=\\&\\?\\/\\:\\_]+\"', html_text)\n",
    "    if instagram_list: \n",
    "        in_flag = 1\n",
    "        instagram_list = set([x.lower().replace('\"','') for x in instagram_list if link_checker(url, x.lower().replace('\"','')) and '.svg' not in x.lower() and '.png' not in x.lower()  ])\n",
    "    else: in_flag = 0\n",
    "\n",
    "\n",
    "\n",
    "    new_value = {\n",
    "        'input_url': url, \n",
    "        #'email': mail_list,\n",
    "        #'actual_link': str(response.url),  \n",
    "        # 'link': a , # earlier we were outputting the entire link by using: str(response.url), \n",
    "        'facebook': facebook_list, # making a set eleminates the occasional duplicate links that get captured\n",
    "        'linkedin': linkedin_list, \n",
    "        'twitter': twitter_list, \n",
    "        'instagram': instagram_list,\n",
    "        'total_flags': fb_flag + ln_flag + tw_flag + in_flag\n",
    "        }\n",
    "    \n",
    "\n",
    "    collector.append(new_value)\n",
    "    print(new_value)"
   ]
  },
  {
   "cell_type": "code",
   "execution_count": 310,
   "metadata": {},
   "outputs": [],
   "source": [
    "#email = []\n",
    "twitter = []\n",
    "linkedin = []\n",
    "facebook = []\n",
    "instagram = []\n",
    "\n",
    "\n",
    "for j in collector : # joining all the dictionaries\n",
    "    twitter.extend(j['twitter'])\n",
    "    linkedin.extend(j['linkedin'])\n",
    "    facebook.extend(j['facebook'])\n",
    "    instagram.extend(j['instagram'])\n",
    "\n",
    "\n",
    "# remove any common links that might come\n",
    "\n",
    "\n",
    "twitter = list(set(twitter))\n",
    "linkedin = list(set(linkedin))\n",
    "facebook = list(set(facebook))\n",
    "instagram = list(set(instagram))\n",
    "\n",
    "\n",
    "scraped_value = {\n",
    "'input_url': url, \n",
    "'facebook': facebook,\n",
    "'linkedin': linkedin, \n",
    "'twitter': twitter, \n",
    "'instagram': instagram,\n",
    "}\n",
    "\n",
    "\n"
   ]
  },
  {
   "cell_type": "code",
   "execution_count": 311,
   "metadata": {},
   "outputs": [
    {
     "output_type": "execute_result",
     "data": {
      "text/plain": [
       "{'input_url': 'https://www.komfort.com/',\n",
       " 'facebook': [],\n",
       " 'linkedin': ['https://www.linkedin.com/company/komfort-partitioning-ltd/'],\n",
       " 'twitter': ['https://twitter.com/komfortuk?lang=en-gb'],\n",
       " 'instagram': []}"
      ]
     },
     "metadata": {},
     "execution_count": 311
    }
   ],
   "source": [
    "scraped_value"
   ]
  },
  {
   "cell_type": "code",
   "execution_count": 312,
   "metadata": {},
   "outputs": [
    {
     "output_type": "execute_result",
     "data": {
      "text/plain": [
       "{'facebook': '',\n",
       " 'twitter': 'https://twitter.com/komfortuk',\n",
       " 'instagram': 'https://www.instagram.com/komfort.co/',\n",
       " 'linkedin': 'https://www.linkedin.com/company/komfort-partitioning-ltd'}"
      ]
     },
     "metadata": {},
     "execution_count": 312
    }
   ],
   "source": [
    "ggl_values"
   ]
  },
  {
   "cell_type": "code",
   "execution_count": 313,
   "metadata": {},
   "outputs": [],
   "source": [
    "# COMBINE THE LINKS IN THE TWO DICTIOANRIES\n",
    "\n",
    "scraped_value['facebook'].append(ggl_values['facebook'])\n",
    "scraped_value['linkedin'].append(ggl_values['linkedin'])\n",
    "scraped_value['twitter'].append(ggl_values['twitter'])\n",
    "scraped_value['instagram'].append(ggl_values['instagram'])\n",
    "\n",
    "output_dict = {\n",
    "    'facebook': list(set(scraped_value['facebook'])),\n",
    "    'linkedin': list(set(scraped_value['linkedin'])),\n",
    "    'twitter': list(set(scraped_value['twitter'])),\n",
    "    'instagram': list(set(scraped_value['instagram']))\n",
    "}\n",
    "\n"
   ]
  },
  {
   "cell_type": "code",
   "execution_count": 314,
   "metadata": {},
   "outputs": [
    {
     "output_type": "execute_result",
     "data": {
      "text/plain": [
       "{'facebook': '',\n",
       " 'linkedin': 'https://www.linkedin.com/company/komfort-partitioning-ltd/',\n",
       " 'twitter': 'https://twitter.com/komfortuk?lang=en-gb',\n",
       " 'instagram': 'https://www.instagram.com/komfort.co/'}"
      ]
     },
     "metadata": {},
     "execution_count": 314
    }
   ],
   "source": [
    "\n",
    "# PICK THE BEST LINKS FOR EACH CATEGORY\n",
    "\n",
    "for soc in ['facebook','twitter','linkedin','instagram']:\n",
    "\n",
    "    prev_score = 0\n",
    "    container = ''\n",
    "\n",
    "    for n in range (len(output_dict[soc])):\n",
    "        new_score = fuzz.partial_ratio(output_dict[soc][n],name)\n",
    "        if new_score > prev_score:\n",
    "            container = output_dict[soc][n]\n",
    "            prev_score = new_score\n",
    "\n",
    "    output_dict[soc] = container\n",
    "\n",
    "\n",
    "\n",
    "output_dict"
   ]
  },
  {
   "cell_type": "code",
   "execution_count": null,
   "metadata": {},
   "outputs": [],
   "source": []
  }
 ]
}